{
 "cells": [
  {
   "cell_type": "code",
   "execution_count": 1,
   "id": "through-corner",
   "metadata": {},
   "outputs": [],
   "source": [
    "#This is a chat bot application"
   ]
  },
  {
   "cell_type": "code",
   "execution_count": 1,
   "id": "prompt-packing",
   "metadata": {},
   "outputs": [],
   "source": [
    "#import library\n",
    "from nltk.chat.util import Chat, reflections"
   ]
  },
  {
   "cell_type": "code",
   "execution_count": 7,
   "id": "danish-dynamics",
   "metadata": {},
   "outputs": [],
   "source": [
    "pairs = [\n",
    "         ['(hi|hello|hey|holla|hiii|hii|heya)',['hey there, do you wanna talk?','heyaa, do you wanna talk?','yess, do you wanna talk?','hi there']],\n",
    "         ['yes (.*) want to talk',['ok ,tell me how was your day?']],\n",
    "         ['day was not good',['Do you ever feel that you’ve been affected by feelings of edginess, anxiety, or nerves?']],\n",
    "         ['(.*)edginess(.*)|(.*)anxiety(.*)|(.*)nervous(.*)',['okay we will talk about that , first of all take a deep breathe']], \n",
    "         ['no (.*) dont want to talk',['then how can I help you ?']],\n",
    "         ['help',['hey , What is your name ?']],\n",
    "         ['my name is (.*)',['hi %1']]\n",
    "]"
   ]
  },
  {
   "cell_type": "code",
   "execution_count": 4,
   "id": "olive-thing",
   "metadata": {},
   "outputs": [
    {
     "data": {
      "text/plain": [
       "{'i am': 'you are',\n",
       " 'i was': 'you were',\n",
       " 'i': 'you',\n",
       " \"i'm\": 'you are',\n",
       " \"i'd\": 'you would',\n",
       " \"i've\": 'you have',\n",
       " \"i'll\": 'you will',\n",
       " 'my': 'your',\n",
       " 'you are': 'I am',\n",
       " 'you were': 'I was',\n",
       " \"you've\": 'I have',\n",
       " \"you'll\": 'I will',\n",
       " 'your': 'my',\n",
       " 'yours': 'mine',\n",
       " 'you': 'me',\n",
       " 'me': 'you'}"
      ]
     },
     "execution_count": 4,
     "metadata": {},
     "output_type": "execute_result"
    }
   ],
   "source": [
    "reflections"
   ]
  },
  {
   "cell_type": "code",
   "execution_count": 8,
   "id": "recognized-cedar",
   "metadata": {},
   "outputs": [],
   "source": [
    "my_dummy_reflections = {\n",
    "    'go':'gone',\n",
    "    'hello':'hey there',\n",
    "    'what is your name':'my name is YourHelper'\n",
    "}"
   ]
  },
  {
   "cell_type": "code",
   "execution_count": 9,
   "id": "latin-kenya",
   "metadata": {},
   "outputs": [
    {
     "name": "stdout",
     "output_type": "stream",
     "text": [
      ">hi\n",
      "heyaa, do you wanna talk?\n",
      ">yes i want to talk\n",
      "ok ,tell me how was your day?\n",
      ">day was not good\n",
      "Do you ever feel that you’ve been affected by feelings of edginess, anxiety, or nerves?\n",
      ">yes anxiety \n",
      "okay we will talk about that , first of all take a deep breathe\n",
      ">my name is jaishree\n",
      "hi jaishree\n",
      ">quit\n",
      "None\n"
     ]
    }
   ],
   "source": [
    "chat = Chat(pairs, reflections)\n",
    "#chat._substitute('hello')\n",
    "chat.converse()"
   ]
  },
  {
   "cell_type": "code",
   "execution_count": null,
   "id": "silver-collective",
   "metadata": {},
   "outputs": [],
   "source": []
  }
 ],
 "metadata": {
  "kernelspec": {
   "display_name": "Python 3",
   "language": "python",
   "name": "python3"
  },
  "language_info": {
   "codemirror_mode": {
    "name": "ipython",
    "version": 3
   },
   "file_extension": ".py",
   "mimetype": "text/x-python",
   "name": "python",
   "nbconvert_exporter": "python",
   "pygments_lexer": "ipython3",
   "version": "3.8.5"
  }
 },
 "nbformat": 4,
 "nbformat_minor": 5
}
